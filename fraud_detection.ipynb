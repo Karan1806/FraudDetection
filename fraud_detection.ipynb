{
 "cells": [
  {
   "cell_type": "code",
   "execution_count": 8,
   "id": "0527f836",
   "metadata": {},
   "outputs": [
    {
     "name": "stdout",
     "output_type": "stream",
     "text": [
      "📊 Confusion Matrix:\n",
      "[[7715]]\n",
      "\n",
      "📈 Classification Report:\n",
      "              precision    recall  f1-score   support\n",
      "\n",
      "           0       1.00      1.00      1.00      7715\n",
      "\n",
      "    accuracy                           1.00      7715\n",
      "   macro avg       1.00      1.00      1.00      7715\n",
      "weighted avg       1.00      1.00      1.00      7715\n",
      "\n",
      "✅ Model saved as 'fraud_pipeline.pkl'\n"
     ]
    }
   ],
   "source": [
    "# fraud_model_train.py\n",
    "\n",
    "import pandas as pd\n",
    "import pickle\n",
    "from sklearn.model_selection import train_test_split\n",
    "from sklearn.pipeline import Pipeline\n",
    "from sklearn.preprocessing import StandardScaler, OneHotEncoder\n",
    "from sklearn.compose import ColumnTransformer\n",
    "from sklearn.ensemble import RandomForestClassifier\n",
    "from sklearn.metrics import classification_report, confusion_matrix\n",
    "\n",
    "# ───── 1. Load Data ─────\n",
    "df = pd.read_csv(\"payment_fraud.csv\")\n",
    "df.rename(columns={'label': 'isFraud'}, inplace=True)\n",
    "df.dropna(inplace=True)\n",
    "\n",
    "# ───── 2. Define features ─────\n",
    "X = df.drop('isFraud', axis=1)\n",
    "y = df['isFraud']\n",
    "\n",
    "# Column types\n",
    "categorical_cols = ['paymentMethod', 'Category']\n",
    "numerical_cols = ['accountAgeDays', 'numItems', 'localTime', 'paymentMethodAgeDays', 'isWeekend']\n",
    "\n",
    "# ───── 3. Preprocessing ─────\n",
    "preprocessor = ColumnTransformer(transformers=[\n",
    "    ('num', StandardScaler(), numerical_cols),\n",
    "    ('cat', OneHotEncoder(drop='first', handle_unknown='ignore'), categorical_cols)\n",
    "])\n",
    "\n",
    "# ───── 4. Create Pipeline ─────\n",
    "model_pipeline = Pipeline(steps=[\n",
    "    ('preprocessing', preprocessor),\n",
    "    ('classifier', RandomForestClassifier(class_weight='balanced', random_state=42))\n",
    "])\n",
    "\n",
    "# ───── 5. Train-test split ─────\n",
    "X_train, X_test, y_train, y_test = train_test_split(\n",
    "    X, y, test_size=0.2, stratify=y, random_state=42\n",
    ")\n",
    "\n",
    "# ───── 6. Train model ─────\n",
    "model_pipeline.fit(X_train, y_train)\n",
    "\n",
    "# ───── 7. Evaluate ─────\n",
    "y_pred = model_pipeline.predict(X_test)\n",
    "print(\"📊 Confusion Matrix:\")\n",
    "print(confusion_matrix(y_test, y_pred))\n",
    "print(\"\\n📈 Classification Report:\")\n",
    "print(classification_report(y_test, y_pred))\n",
    "\n",
    "# ───── 8. Save model ─────\n",
    "with open(\"fraud_pipeline.pkl\", \"wb\") as f:\n",
    "    pickle.dump(model_pipeline, f)\n",
    "\n",
    "print(\"✅ Model saved as 'fraud_pipeline.pkl'\")\n"
   ]
  },
  {
   "cell_type": "code",
   "execution_count": null,
   "id": "f905fd42",
   "metadata": {},
   "outputs": [],
   "source": []
  },
  {
   "cell_type": "code",
   "execution_count": null,
   "id": "bec0af9b",
   "metadata": {},
   "outputs": [],
   "source": []
  }
 ],
 "metadata": {
  "kernelspec": {
   "display_name": "FruadDetection",
   "language": "python",
   "name": "python3"
  },
  "language_info": {
   "codemirror_mode": {
    "name": "ipython",
    "version": 3
   },
   "file_extension": ".py",
   "mimetype": "text/x-python",
   "name": "python",
   "nbconvert_exporter": "python",
   "pygments_lexer": "ipython3",
   "version": "3.11.13"
  }
 },
 "nbformat": 4,
 "nbformat_minor": 5
}
